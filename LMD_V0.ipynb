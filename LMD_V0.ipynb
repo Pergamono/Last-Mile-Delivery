{
 "cells": [
  {
   "cell_type": "markdown",
   "id": "approximate-topic",
   "metadata": {},
   "source": [
    "# Last Mile Delivery Scheduling Problem"
   ]
  },
  {
   "cell_type": "markdown",
   "id": "broad-wonder",
   "metadata": {},
   "source": [
    "We will build an optimization model to solve this problem. Let's first write out the math formulation. \n",
    "\n",
    "<br>\n",
    "\n",
    "<b>Sets: </b>\n",
    "\n",
    "Employees: $i \\in I=\\{1,...,19 \\}$\n",
    "\n",
    "Jobs: $j, k \\in \\Theta =\\{1,...,49 \\}$ \n",
    "\n",
    "<br>\n",
    "\n",
    "<b>Parameters:</b>\n",
    "\n",
    "$JS_j$: job $j$ starttime\n",
    "\n",
    "$JE_j$: job $j$ endtime\n",
    "\n",
    "$SS_i$: time of employee $i$ starts shift\n",
    "\n",
    "$SE_i$: time of employee $i$ ends shift\n",
    "\n",
    "<br>\n",
    "\n",
    "<b>Decision variables:</b>\n",
    "\n",
    "$\n",
    "x_{ij} = \\left\\{\n",
    "    \\begin{array}\\\\\n",
    "        1 & \\text{if job } j \\text{ is assigned to employee } i \\\\\n",
    "        0 & otherwise \\\\\n",
    "    \\end{array}\n",
    "\\right.\n",
    "$\n",
    "\n",
    "$\n",
    "z_{ijk} = \\left\\{\n",
    "    \\begin{array}\\\\\n",
    "        1 & \\text{ job } j \\text{ starts before job } k,\\text{ done by employee }i \\\\\n",
    "        0 & \\text{ job } j \\text{ starts after job } k,\\text{ done by employee }i \\\\\n",
    "    \\end{array}\n",
    "\\right.\n",
    "$\n",
    "\n",
    "The problem can be solved as the following MIP.\n",
    "\n",
    "\\begin{align}\n",
    "\t\\text{Maximize:} \\quad & \\sum_{i \\in I} \\sum_{j \\in \\Theta} x_{ij} \\\\    \n",
    "\t\\text{Subject to:} \\quad & \\sum_{j \\in \\Theta} x_{ij} \\leq 1, \\quad\\qquad\\qquad\\qquad\\qquad\\quad \\forall j \\\\    \n",
    "    & x_{ij} \\cdot (JS_j - SS_i) \\geq 0, \\qquad\\qquad\\qquad \\forall i,j \\\\    \n",
    "    & x_{ij} \\cdot (SE_i - JE_j) \\geq 0, \\qquad\\qquad\\qquad \\forall i,j \\\\\n",
    "\t& x_{ij} \\cdot JS_j \\geq x_{ik} \\cdot JE_k - M \\cdot z_{ijk}, \\quad\\qquad \\forall i,j, k \\ and\\  j <k\\\\\n",
    "    & x_{ik} \\cdot JS_k \\geq x_{ij} \\cdot JE_j - M \\cdot (1-z_{ijk}), \\quad \\forall i,j, k \\ and\\  j <k\\\\\n",
    "\\end{align}"
   ]
  },
  {
   "cell_type": "code",
   "execution_count": null,
   "id": "under-legend",
   "metadata": {},
   "outputs": [],
   "source": []
  },
  {
   "cell_type": "code",
   "execution_count": 1 ,
   "id": "wrapped-charity",
   "metadata": {},
   "outputs": [],
   "source": [
    "# This routine will need Gurobi to be installed\n",
    "# conda config --add channels https://conda.anaconda.org/gurobi\n",
    "# conda install gurobi"
   ]
  },
  {
   "cell_type": "code",
   "execution_count": 2,
   "id": "convinced-worse",
   "metadata": {},
   "outputs": [],
   "source": [
    "import pandas as pd\n",
    "import numpy as np\n",
    "import gurobipy as gp\n",
    "from gurobipy import GRB\n",
    "import datetime\n",
    "import matplotlib.pyplot as plt"
   ]
  },
  {
   "cell_type": "code",
   "execution_count": 3,
   "id": "polyphonic-relay",
   "metadata": {},
   "outputs": [],
   "source": [
    "ev = pd.read_excel('input/data_carvana.xlsx',sheet_name='events')\n",
    "dur = pd.read_excel('input/data_carvana.xlsx',sheet_name='duration')\n",
    "res = pd.read_excel('input/data_carvana.xlsx',sheet_name='resources')"
   ]
  },
  {
   "cell_type": "code",
   "execution_count": 4,
   "id": "biological-lebanon",
   "metadata": {},
   "outputs": [
    {
     "data": {
      "text/html": [
       "<div>\n",
       "<style scoped>\n",
       "    .dataframe tbody tr th:only-of-type {\n",
       "        vertical-align: middle;\n",
       "    }\n",
       "\n",
       "    .dataframe tbody tr th {\n",
       "        vertical-align: top;\n",
       "    }\n",
       "\n",
       "    .dataframe thead th {\n",
       "        text-align: right;\n",
       "    }\n",
       "</style>\n",
       "<table border=\"1\" class=\"dataframe\">\n",
       "  <thead>\n",
       "    <tr style=\"text-align: right;\">\n",
       "      <th></th>\n",
       "      <th>ResourceId</th>\n",
       "      <th>StartTime</th>\n",
       "      <th>EndTime</th>\n",
       "    </tr>\n",
       "  </thead>\n",
       "  <tbody>\n",
       "    <tr>\n",
       "      <th>0</th>\n",
       "      <td>9454310</td>\n",
       "      <td>07:00:00</td>\n",
       "      <td>19:00:00</td>\n",
       "    </tr>\n",
       "    <tr>\n",
       "      <th>1</th>\n",
       "      <td>10541233</td>\n",
       "      <td>07:00:00</td>\n",
       "      <td>17:00:00</td>\n",
       "    </tr>\n",
       "    <tr>\n",
       "      <th>2</th>\n",
       "      <td>9061975</td>\n",
       "      <td>07:00:00</td>\n",
       "      <td>17:00:00</td>\n",
       "    </tr>\n",
       "    <tr>\n",
       "      <th>3</th>\n",
       "      <td>7840175</td>\n",
       "      <td>07:00:00</td>\n",
       "      <td>17:00:00</td>\n",
       "    </tr>\n",
       "    <tr>\n",
       "      <th>4</th>\n",
       "      <td>10683867</td>\n",
       "      <td>07:00:00</td>\n",
       "      <td>17:00:00</td>\n",
       "    </tr>\n",
       "  </tbody>\n",
       "</table>\n",
       "</div>"
      ],
      "text/plain": [
       "   ResourceId StartTime   EndTime\n",
       "0     9454310  07:00:00  19:00:00\n",
       "1    10541233  07:00:00  17:00:00\n",
       "2     9061975  07:00:00  17:00:00\n",
       "3     7840175  07:00:00  17:00:00\n",
       "4    10683867  07:00:00  17:00:00"
      ]
     },
     "execution_count": 4,
     "metadata": {},
     "output_type": "execute_result"
    }
   ],
   "source": [
    "res.head()"
   ]
  },
  {
   "cell_type": "code",
   "execution_count": 5,
   "id": "surface-phoenix",
   "metadata": {},
   "outputs": [
    {
     "data": {
      "text/plain": [
       "Index(['OriginAddressId', 'DestinationAddressId',\n",
       "       'TripDuration(hour:minute:second)', 'Unnamed: 3', 'Unnamed: 4',\n",
       "       'Unnamed: 5', 'Unnamed: 6', 'Unnamed: 7', 'Unnamed: 8'],\n",
       "      dtype='object')"
      ]
     },
     "execution_count": 5,
     "metadata": {},
     "output_type": "execute_result"
    }
   ],
   "source": [
    "dur.columns"
   ]
  },
  {
   "cell_type": "code",
   "execution_count": 6,
   "id": "permanent-century",
   "metadata": {},
   "outputs": [],
   "source": [
    "# Events to be scheduled \n",
    "ev = ev.drop(['Unnamed: 4', 'Unnamed: 5', 'Unnamed: 6', 'Unnamed: 7'],axis=1)"
   ]
  },
  {
   "cell_type": "code",
   "execution_count": 7,
   "id": "voluntary-declaration",
   "metadata": {},
   "outputs": [],
   "source": [
    "# Durations\n",
    "dur = dur.drop(['Unnamed: 3', 'Unnamed: 4', 'Unnamed: 5', 'Unnamed: 6', 'Unnamed: 7', 'Unnamed: 8'], axis=1)"
   ]
  },
  {
   "cell_type": "code",
   "execution_count": 8,
   "id": "suspected-holder",
   "metadata": {},
   "outputs": [
    {
     "data": {
      "text/html": [
       "<div>\n",
       "<style scoped>\n",
       "    .dataframe tbody tr th:only-of-type {\n",
       "        vertical-align: middle;\n",
       "    }\n",
       "\n",
       "    .dataframe tbody tr th {\n",
       "        vertical-align: top;\n",
       "    }\n",
       "\n",
       "    .dataframe thead th {\n",
       "        text-align: right;\n",
       "    }\n",
       "</style>\n",
       "<table border=\"1\" class=\"dataframe\">\n",
       "  <thead>\n",
       "    <tr style=\"text-align: right;\">\n",
       "      <th></th>\n",
       "      <th>EventId</th>\n",
       "      <th>Appointment Starttime</th>\n",
       "      <th>Appointment Endtime</th>\n",
       "      <th>AddressId</th>\n",
       "    </tr>\n",
       "  </thead>\n",
       "  <tbody>\n",
       "    <tr>\n",
       "      <th>0</th>\n",
       "      <td>8366991</td>\n",
       "      <td>08:15:00</td>\n",
       "      <td>10:15:00</td>\n",
       "      <td>A1</td>\n",
       "    </tr>\n",
       "    <tr>\n",
       "      <th>1</th>\n",
       "      <td>8536889</td>\n",
       "      <td>08:15:00</td>\n",
       "      <td>10:15:00</td>\n",
       "      <td>A2</td>\n",
       "    </tr>\n",
       "    <tr>\n",
       "      <th>2</th>\n",
       "      <td>8293270</td>\n",
       "      <td>08:22:30</td>\n",
       "      <td>10:07:30</td>\n",
       "      <td>A3</td>\n",
       "    </tr>\n",
       "    <tr>\n",
       "      <th>3</th>\n",
       "      <td>8318992</td>\n",
       "      <td>08:22:30</td>\n",
       "      <td>11:22:30</td>\n",
       "      <td>A4</td>\n",
       "    </tr>\n",
       "    <tr>\n",
       "      <th>4</th>\n",
       "      <td>1563930</td>\n",
       "      <td>08:57:30</td>\n",
       "      <td>10:32:30</td>\n",
       "      <td>A5</td>\n",
       "    </tr>\n",
       "  </tbody>\n",
       "</table>\n",
       "</div>"
      ],
      "text/plain": [
       "   EventId Appointment Starttime Appointment Endtime AddressId\n",
       "0  8366991              08:15:00            10:15:00        A1\n",
       "1  8536889              08:15:00            10:15:00        A2\n",
       "2  8293270              08:22:30            10:07:30        A3\n",
       "3  8318992              08:22:30            11:22:30        A4\n",
       "4  1563930              08:57:30            10:32:30        A5"
      ]
     },
     "execution_count": 8,
     "metadata": {},
     "output_type": "execute_result"
    }
   ],
   "source": [
    "ev.head()"
   ]
  },
  {
   "cell_type": "code",
   "execution_count": 9,
   "id": "legitimate-swimming",
   "metadata": {},
   "outputs": [],
   "source": [
    "dur.columns = ['OriginAddressId', 'AddressId', 'TripDuration']"
   ]
  },
  {
   "cell_type": "code",
   "execution_count": 10,
   "id": "portuguese-summer",
   "metadata": {},
   "outputs": [],
   "source": [
    "# Merge \"Events\" and \"Durations\" to be \"jobs\"\n",
    "jobs = pd.merge(ev, dur, on='AddressId')"
   ]
  },
  {
   "cell_type": "code",
   "execution_count": 11,
   "id": "blond-mother",
   "metadata": {},
   "outputs": [],
   "source": [
    "jobs = jobs.drop('OriginAddressId',axis=1)"
   ]
  },
  {
   "cell_type": "code",
   "execution_count": 12,
   "id": "quiet-festival",
   "metadata": {
    "scrolled": true
   },
   "outputs": [
    {
     "data": {
      "text/html": [
       "<div>\n",
       "<style scoped>\n",
       "    .dataframe tbody tr th:only-of-type {\n",
       "        vertical-align: middle;\n",
       "    }\n",
       "\n",
       "    .dataframe tbody tr th {\n",
       "        vertical-align: top;\n",
       "    }\n",
       "\n",
       "    .dataframe thead th {\n",
       "        text-align: right;\n",
       "    }\n",
       "</style>\n",
       "<table border=\"1\" class=\"dataframe\">\n",
       "  <thead>\n",
       "    <tr style=\"text-align: right;\">\n",
       "      <th></th>\n",
       "      <th>EventId</th>\n",
       "      <th>Appointment Starttime</th>\n",
       "      <th>Appointment Endtime</th>\n",
       "      <th>AddressId</th>\n",
       "      <th>TripDuration</th>\n",
       "    </tr>\n",
       "  </thead>\n",
       "  <tbody>\n",
       "    <tr>\n",
       "      <th>0</th>\n",
       "      <td>8366991</td>\n",
       "      <td>08:15:00</td>\n",
       "      <td>10:15:00</td>\n",
       "      <td>A1</td>\n",
       "      <td>00:30:00</td>\n",
       "    </tr>\n",
       "    <tr>\n",
       "      <th>1</th>\n",
       "      <td>8536889</td>\n",
       "      <td>08:15:00</td>\n",
       "      <td>10:15:00</td>\n",
       "      <td>A2</td>\n",
       "      <td>00:30:00</td>\n",
       "    </tr>\n",
       "    <tr>\n",
       "      <th>2</th>\n",
       "      <td>8293270</td>\n",
       "      <td>08:22:30</td>\n",
       "      <td>10:07:30</td>\n",
       "      <td>A3</td>\n",
       "      <td>00:22:30</td>\n",
       "    </tr>\n",
       "    <tr>\n",
       "      <th>3</th>\n",
       "      <td>8318992</td>\n",
       "      <td>08:22:30</td>\n",
       "      <td>11:22:30</td>\n",
       "      <td>A4</td>\n",
       "      <td>00:52:30</td>\n",
       "    </tr>\n",
       "    <tr>\n",
       "      <th>4</th>\n",
       "      <td>1563930</td>\n",
       "      <td>08:57:30</td>\n",
       "      <td>10:32:30</td>\n",
       "      <td>A5</td>\n",
       "      <td>00:27:30</td>\n",
       "    </tr>\n",
       "  </tbody>\n",
       "</table>\n",
       "</div>"
      ],
      "text/plain": [
       "   EventId Appointment Starttime Appointment Endtime AddressId TripDuration\n",
       "0  8366991              08:15:00            10:15:00        A1     00:30:00\n",
       "1  8536889              08:15:00            10:15:00        A2     00:30:00\n",
       "2  8293270              08:22:30            10:07:30        A3     00:22:30\n",
       "3  8318992              08:22:30            11:22:30        A4     00:52:30\n",
       "4  1563930              08:57:30            10:32:30        A5     00:27:30"
      ]
     },
     "execution_count": 12,
     "metadata": {},
     "output_type": "execute_result"
    }
   ],
   "source": [
    "jobs.head()"
   ]
  },
  {
   "cell_type": "code",
   "execution_count": 13,
   "id": "spatial-sewing",
   "metadata": {},
   "outputs": [],
   "source": [
    "# Convert datetime.time format to seconds\n",
    "def time_to_seconds(time):\n",
    "    return (time.hour * 60 + time.minute) * 60 + time.second"
   ]
  },
  {
   "cell_type": "code",
   "execution_count": 14,
   "id": "municipal-silicon",
   "metadata": {},
   "outputs": [],
   "source": [
    "# resource = {resourceID: [ShiftStart, ShiftEnd], ... }\n",
    "resource = {}\n",
    "for i in range(len(res.index)):\n",
    "    resource[res['ResourceId'][i]] = [time_to_seconds(res['StartTime'][i]), time_to_seconds(res['EndTime'][i]) ]"
   ]
  },
  {
   "cell_type": "code",
   "execution_count": 15,
   "id": "engaged-flooring",
   "metadata": {},
   "outputs": [],
   "source": [
    "# events = {eventID: [AppStart, AppEnd], ... }\n",
    "events = {}\n",
    "for i in range(len(ev.index)):\n",
    "    events[jobs['EventId'][i]] = [time_to_seconds(jobs['Appointment Starttime'][i]), \n",
    "                                  time_to_seconds(jobs['Appointment Endtime'][i]) ]"
   ]
  },
  {
   "cell_type": "code",
   "execution_count": 16,
   "id": "lucky-article",
   "metadata": {},
   "outputs": [],
   "source": [
    "# Pre-processing data for solving MIP in Gurobi\n",
    "emp_num, shift_start, shift_end = gp.multidict(resource)\n",
    "job_num, job_start, job_end = gp.multidict(events)"
   ]
  },
  {
   "cell_type": "code",
   "execution_count": 17,
   "id": "organizational-contemporary",
   "metadata": {},
   "outputs": [],
   "source": [
    "availability=[]\n",
    "for i in emp_num:\n",
    "    for j in job_num:\n",
    "        availability.append((i,j))"
   ]
  },
  {
   "cell_type": "code",
   "execution_count": 18,
   "id": "equal-fighter",
   "metadata": {},
   "outputs": [],
   "source": [
    "bigM = 100000   # 1 day = 86400 seconds. "
   ]
  },
  {
   "cell_type": "code",
   "execution_count": 19,
   "id": "monthly-reliance",
   "metadata": {},
   "outputs": [
    {
     "name": "stdout",
     "output_type": "stream",
     "text": [
      "Academic license - for non-commercial use only - expires 2021-06-18\n",
      "Using license file C:\\Users\\freed\\gurobi.lic\n"
     ]
    }
   ],
   "source": [
    "# Model\n",
    "m = gp.Model(\"carvana_schedule\")"
   ]
  },
  {
   "cell_type": "code",
   "execution_count": 20,
   "id": "deluxe-fusion",
   "metadata": {},
   "outputs": [],
   "source": [
    "# Decision var: x[emp_num, job_num]\n",
    "x = m.addVars(availability, vtype = GRB.BINARY, name=\"x\")"
   ]
  },
  {
   "cell_type": "code",
   "execution_count": 21,
   "id": "described-owner",
   "metadata": {},
   "outputs": [],
   "source": [
    "# Decision var: z[emp_num, job_num, job_num] \n",
    "z = m.addVars(emp_num, job_num, job_num, vtype = GRB.BINARY, name=\"z\")"
   ]
  },
  {
   "cell_type": "code",
   "execution_count": 22,
   "id": "clear-update",
   "metadata": {},
   "outputs": [],
   "source": [
    "# Objective \n",
    "m.setObjective(gp.quicksum(x[i] for i in availability), GRB.MAXIMIZE)"
   ]
  },
  {
   "cell_type": "code",
   "execution_count": 23,
   "id": "fancy-abortion",
   "metadata": {},
   "outputs": [
    {
     "data": {
      "text/plain": [
       "{8366991: <gurobi.Constr *Awaiting Model Update*>,\n",
       " 8536889: <gurobi.Constr *Awaiting Model Update*>,\n",
       " 8293270: <gurobi.Constr *Awaiting Model Update*>,\n",
       " 8318992: <gurobi.Constr *Awaiting Model Update*>,\n",
       " 1563930: <gurobi.Constr *Awaiting Model Update*>,\n",
       " 8528952: <gurobi.Constr *Awaiting Model Update*>,\n",
       " 1566611: <gurobi.Constr *Awaiting Model Update*>,\n",
       " 1566612: <gurobi.Constr *Awaiting Model Update*>,\n",
       " 8502088: <gurobi.Constr *Awaiting Model Update*>,\n",
       " 8455723: <gurobi.Constr *Awaiting Model Update*>,\n",
       " 1546739: <gurobi.Constr *Awaiting Model Update*>,\n",
       " 8513010: <gurobi.Constr *Awaiting Model Update*>,\n",
       " 1547686: <gurobi.Constr *Awaiting Model Update*>,\n",
       " 1540296: <gurobi.Constr *Awaiting Model Update*>,\n",
       " 8526555: <gurobi.Constr *Awaiting Model Update*>,\n",
       " 8495159: <gurobi.Constr *Awaiting Model Update*>,\n",
       " 8511033: <gurobi.Constr *Awaiting Model Update*>,\n",
       " 8530434: <gurobi.Constr *Awaiting Model Update*>,\n",
       " 8370070: <gurobi.Constr *Awaiting Model Update*>,\n",
       " 8550751: <gurobi.Constr *Awaiting Model Update*>,\n",
       " 8532654: <gurobi.Constr *Awaiting Model Update*>,\n",
       " 8563679: <gurobi.Constr *Awaiting Model Update*>,\n",
       " 8563071: <gurobi.Constr *Awaiting Model Update*>,\n",
       " 8206275: <gurobi.Constr *Awaiting Model Update*>,\n",
       " 8556760: <gurobi.Constr *Awaiting Model Update*>,\n",
       " 1546140: <gurobi.Constr *Awaiting Model Update*>,\n",
       " 8566102: <gurobi.Constr *Awaiting Model Update*>,\n",
       " 1328356: <gurobi.Constr *Awaiting Model Update*>,\n",
       " 1559492: <gurobi.Constr *Awaiting Model Update*>,\n",
       " 1566979: <gurobi.Constr *Awaiting Model Update*>,\n",
       " 8288079: <gurobi.Constr *Awaiting Model Update*>,\n",
       " 8548978: <gurobi.Constr *Awaiting Model Update*>,\n",
       " 1568456: <gurobi.Constr *Awaiting Model Update*>,\n",
       " 8572845: <gurobi.Constr *Awaiting Model Update*>,\n",
       " 8577028: <gurobi.Constr *Awaiting Model Update*>,\n",
       " 8560280: <gurobi.Constr *Awaiting Model Update*>,\n",
       " 1558901: <gurobi.Constr *Awaiting Model Update*>,\n",
       " 8572655: <gurobi.Constr *Awaiting Model Update*>,\n",
       " 8544795: <gurobi.Constr *Awaiting Model Update*>,\n",
       " 8566547: <gurobi.Constr *Awaiting Model Update*>,\n",
       " 8539806: <gurobi.Constr *Awaiting Model Update*>,\n",
       " 8569097: <gurobi.Constr *Awaiting Model Update*>,\n",
       " 8519419: <gurobi.Constr *Awaiting Model Update*>,\n",
       " 8517806: <gurobi.Constr *Awaiting Model Update*>,\n",
       " 8605289: <gurobi.Constr *Awaiting Model Update*>,\n",
       " 8545203: <gurobi.Constr *Awaiting Model Update*>,\n",
       " 8586152: <gurobi.Constr *Awaiting Model Update*>,\n",
       " 8368018: <gurobi.Constr *Awaiting Model Update*>,\n",
       " 8497098: <gurobi.Constr *Awaiting Model Update*>}"
      ]
     },
     "execution_count": 23,
     "metadata": {},
     "output_type": "execute_result"
    }
   ],
   "source": [
    "# contranit (1): Each job can only be done by no more than ONE employee\n",
    "m.addConstrs( (x.sum('*',s) <= 1 for s in job_num), \"eachjob\")"
   ]
  },
  {
   "cell_type": "code",
   "execution_count": 24,
   "id": "acute-steal",
   "metadata": {},
   "outputs": [],
   "source": [
    "# contranit (2)(3): Each scheduled job must be within that employee's shift hours.\n",
    "for i in emp_num:\n",
    "    for j in job_num:\n",
    "        m.addConstr( x[i, j] * (job_start[j] - shift_start[i]) >= 0 , \"workhour1[%s, %s]\"%(i, j) )\n",
    "        m.addConstr( x[i, j] * (job_end[j] - shift_end[i]) <= 0 , \"workhour2[%s, %s]\"%(i, j) )"
   ]
  },
  {
   "cell_type": "code",
   "execution_count": 25,
   "id": "meaning-accident",
   "metadata": {},
   "outputs": [],
   "source": [
    "# contranit (4)(5): Disjunctive constraints: for employee i, scheduled job j and k cannot overlap. \n",
    "for i in emp_num:\n",
    "    for j in job_num:\n",
    "        for k in job_num: \n",
    "            if j<k:\n",
    "                #print(i,j,k)\n",
    "                m.addConstr( x[i,j]*job_start[j] >= x[i,k]*job_end[k] - bigM*z[i,j,k] , \"disjunctive1[%s, %s, %s]\"%(i, j, k) )\n",
    "                m.addConstr( x[i,k]*job_start[k] >= x[i,j]*job_end[j] - bigM*(1-z[i,j,k]) , \"disjunctive2[%s, %s, %s]\"%(i, j, k) )"
   ]
  },
  {
   "cell_type": "code",
   "execution_count": 26,
   "id": "ordered-engineer",
   "metadata": {},
   "outputs": [
    {
     "name": "stdout",
     "output_type": "stream",
     "text": [
      "Gurobi Optimizer version 9.1.1 build v9.1.1rc0 (win64)\n",
      "Thread count: 2 physical cores, 4 logical processors, using up to 4 threads\n",
      "Optimize a model with 46599 rows, 46550 columns and 136843 nonzeros\n",
      "Model fingerprint: 0x4635de26\n",
      "Variable types: 0 continuous, 46550 integer (46550 binary)\n",
      "Coefficient statistics:\n",
      "  Matrix range     [1e+00, 1e+05]\n",
      "  Objective range  [1e+00, 1e+00]\n",
      "  Bounds range     [1e+00, 1e+00]\n",
      "  RHS range        [1e+00, 1e+05]\n",
      "Found heuristic solution: objective 1.0000000\n",
      "Found heuristic solution: objective 2.0000000\n",
      "Presolve removed 46247 rows and 45773 columns\n",
      "Presolve time: 0.20s\n",
      "Presolved: 352 rows, 777 columns, 4417 nonzeros\n",
      "Variable types: 0 continuous, 777 integer (777 binary)\n",
      "\n",
      "Root relaxation: objective 4.900000e+01, 167 iterations, 0.00 seconds\n",
      "\n",
      "    Nodes    |    Current Node    |     Objective Bounds      |     Work\n",
      " Expl Unexpl |  Obj  Depth IntInf | Incumbent    BestBd   Gap | It/Node Time\n",
      "\n",
      "*    0     0               0      49.0000000   49.00000  0.00%     -    0s\n",
      "\n",
      "Explored 0 nodes (167 simplex iterations) in 0.27 seconds\n",
      "Thread count was 4 (of 4 available processors)\n",
      "\n",
      "Solution count 3: 49 2 1 \n",
      "\n",
      "Optimal solution found (tolerance 1.00e-04)\n",
      "Best objective 4.900000000000e+01, best bound 4.900000000000e+01, gap 0.0000%\n"
     ]
    }
   ],
   "source": [
    "# Solve\n",
    "m.optimize()    "
   ]
  },
  {
   "cell_type": "code",
   "execution_count": 27,
   "id": "enabling-modern",
   "metadata": {},
   "outputs": [
    {
     "name": "stdout",
     "output_type": "stream",
     "text": [
      "Total numbers of events scheduled: 49\n"
     ]
    },
    {
     "data": {
      "text/html": [
       "<div>\n",
       "<style scoped>\n",
       "    .dataframe tbody tr th:only-of-type {\n",
       "        vertical-align: middle;\n",
       "    }\n",
       "\n",
       "    .dataframe tbody tr th {\n",
       "        vertical-align: top;\n",
       "    }\n",
       "\n",
       "    .dataframe thead th {\n",
       "        text-align: right;\n",
       "    }\n",
       "</style>\n",
       "<table border=\"1\" class=\"dataframe\">\n",
       "  <thead>\n",
       "    <tr style=\"text-align: right;\">\n",
       "      <th></th>\n",
       "      <th>ResourceId</th>\n",
       "      <th>EventId</th>\n",
       "      <th>Appointment Starttime</th>\n",
       "      <th>Appointment Endtime</th>\n",
       "    </tr>\n",
       "  </thead>\n",
       "  <tbody>\n",
       "    <tr>\n",
       "      <th>0</th>\n",
       "      <td>9454310</td>\n",
       "      <td>8502088</td>\n",
       "      <td>09:00:00</td>\n",
       "      <td>11:00:00</td>\n",
       "    </tr>\n",
       "    <tr>\n",
       "      <th>1</th>\n",
       "      <td>9454310</td>\n",
       "      <td>8550751</td>\n",
       "      <td>11:45:00</td>\n",
       "      <td>14:00:00</td>\n",
       "    </tr>\n",
       "    <tr>\n",
       "      <th>2</th>\n",
       "      <td>9454310</td>\n",
       "      <td>8544795</td>\n",
       "      <td>14:30:00</td>\n",
       "      <td>17:30:00</td>\n",
       "    </tr>\n",
       "    <tr>\n",
       "      <th>3</th>\n",
       "      <td>10541233</td>\n",
       "      <td>8293270</td>\n",
       "      <td>08:22:30</td>\n",
       "      <td>10:07:30</td>\n",
       "    </tr>\n",
       "    <tr>\n",
       "      <th>4</th>\n",
       "      <td>10541233</td>\n",
       "      <td>8206275</td>\n",
       "      <td>11:37:30</td>\n",
       "      <td>15:07:30</td>\n",
       "    </tr>\n",
       "  </tbody>\n",
       "</table>\n",
       "</div>"
      ],
      "text/plain": [
       "  ResourceId  EventId Appointment Starttime Appointment Endtime\n",
       "0    9454310  8502088              09:00:00            11:00:00\n",
       "1    9454310  8550751              11:45:00            14:00:00\n",
       "2    9454310  8544795              14:30:00            17:30:00\n",
       "3   10541233  8293270              08:22:30            10:07:30\n",
       "4   10541233  8206275              11:37:30            15:07:30"
      ]
     },
     "execution_count": 27,
     "metadata": {},
     "output_type": "execute_result"
    }
   ],
   "source": [
    "# print results\n",
    "solution = m.getAttr('x',x)\n",
    "\n",
    "print('Total numbers of events scheduled: %g' % m.objVal)\n",
    "\n",
    "schedule = pd.DataFrame(columns=['ResourceId','EventId','Appointment Starttime','Appointment Endtime'])\n",
    "\n",
    "for i in emp_num:\n",
    "    for j in job_num:\n",
    "        if solution[i,j] == 1:\n",
    "            schedule.loc[len(schedule.index)] = [i,j, ev.at[ev[ev['EventId'] == j].index[0], 'Appointment Starttime'], ev.at[ev[ev['EventId'] == j].index[0], 'Appointment Endtime']] \n",
    "            #print('Employee %s takes event %s' % (i, j))\n",
    "\n",
    "schedule.to_excel(\"LastMileDeliverySchedule_XH.xlsx\")  \n",
    "schedule.head()"
   ]
  },
  {
   "cell_type": "code",
   "execution_count": 28,
   "id": "joined-success",
   "metadata": {},
   "outputs": [],
   "source": [
    "employees = sorted(list(schedule['ResourceId'].unique()))"
   ]
  },
  {
   "cell_type": "code",
   "execution_count": 29,
   "id": "japanese-preliminary",
   "metadata": {},
   "outputs": [],
   "source": [
    "# Dictionary: emp_sch = {ResourceId1: [(AppStart1, AppDur1), (AppStart2, AppDur2), (AppStart3, AppDur3)... ], \n",
    "#                        ResourceId2: [(), ()],\n",
    "#                        ...               }\n",
    "emp_sch = {}\n",
    "for i in employees:\n",
    "    emp_sch[i] = []\n",
    "    for st in list( schedule[schedule['ResourceId'] == i]['Appointment Starttime']):\n",
    "        emp_sch[i].append( (time_to_seconds(st), time_to_seconds(schedule.at[schedule[schedule['Appointment Starttime'] == st].index[0], 'Appointment Endtime'])- time_to_seconds(st) ) )"
   ]
  },
  {
   "cell_type": "code",
   "execution_count": 30,
   "id": "secure-words",
   "metadata": {},
   "outputs": [
    {
     "data": {
      "image/png": "[encoded data removed]",
      "text/plain": [
       "<Figure size 1332x756 with 1 Axes>"
      ]
     },
     "metadata": {
      "needs_background": "light"
     },
     "output_type": "display_data"
    }
   ],
   "source": [
    "fig, gnt = plt.subplots()\n",
    "\n",
    "fig.set_size_inches(18.5, 10.5)\n",
    "gnt.set_ylim(0, 10+10*len(employees))\n",
    "gnt.set_xlim(30000, 70000)\n",
    "plt.title(\"Carvana Last Mile Delivery Schedule\")\n",
    "gnt.set_xlabel('Time')\n",
    "gnt.set_ylabel('EmployeeID')\n",
    "\n",
    "# Setting x axis\n",
    "gnt.set_xticks( list(range(25200,79200,3600)) ) # 7:00 - 22:00\n",
    "gnt.set_xticklabels(['7:00', '8:00', '9:00', '10:00', '11:00', '12:00', '13:00', '14:00', \n",
    "                     '15:00', '16:00', '17:00', '18:00', '19:00', '20:00', '21:00'])\n",
    "\n",
    "# Setting y axis\n",
    "gnt.set_yticks( list(range(0, 10*len(employees)+20, 10 )) )\n",
    "emp_labels = employees.copy()\n",
    "emp_labels.insert(0,'')\n",
    "emp_labels.append('')\n",
    "gnt.set_yticklabels(emp_labels)\n",
    "\n",
    "gnt.grid(True, color = 'tab:olive', linestyle = ':', linewidth = 0.5)\n",
    "\n",
    "for h, i in enumerate(emp_sch):\n",
    "    gnt.broken_barh(emp_sch[i], (5+10*h, 9), facecolors =('green'))\n",
    "    \n",
    "plt.savefig(\"CarvanaSchedule.png\")"
   ]
  },
  {
   "cell_type": "code",
   "execution_count": null,
   "id": "following-monthly",
   "metadata": {},
   "outputs": [],
   "source": []
  }
 ],
 "metadata": {
  "kernelspec": {
   "display_name": "Python 3",
   "language": "python",
   "name": "python3"
  },
  "language_info": {
   "codemirror_mode": {
    "name": "ipython",
    "version": 3
   },
   "file_extension": ".py",
   "mimetype": "text/x-python",
   "name": "python",
   "nbconvert_exporter": "python",
   "pygments_lexer": "ipython3",
   "version": "3.7.6"
  }
 },
 "nbformat": 4,
 "nbformat_minor": 5
}
